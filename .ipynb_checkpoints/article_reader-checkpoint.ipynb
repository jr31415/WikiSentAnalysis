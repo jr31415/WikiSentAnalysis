{
 "cells": [
  {
   "cell_type": "code",
   "execution_count": 38,
   "id": "8f39f2f6-5ef7-474e-b55a-dcc7f3a746d7",
   "metadata": {},
   "outputs": [
    {
     "name": "stdout",
     "output_type": "stream",
     "text": [
      "The word apple is derived from Old English æppel, meaning \"fruit\", not specifically the apple. That in turn is descended from the Proto-Germanic noun *aplaz, descended in turn from Proto-Indo-European *h₂ébōl.  As late as the 17th century, the word also functioned as a generic term for all fruit, including nuts. This can be compared to the 14th-century Middle English expression appel of paradis, meaning a banana.  \n"
     ]
    }
   ],
   "source": [
    "import re\n",
    "\n",
    "def get_sections(txt_file):\n",
    "    \"\"\"Takes in a specially formatted txt file\n",
    "    containing a wikipedia article, and returns\n",
    "    the text from each section\n",
    "    \"\"\"\n",
    "    sections = dict()\n",
    "    with open(txt_file, 'r') as infile:\n",
    "        sections_list = infile.read().split(\"_____\")\n",
    "\n",
    "    topics = [section.split(\"\\n\")[0] for section in sections_list]\n",
    "\n",
    "    for topic_id, topic in enumerate(topics):\n",
    "        sections[topic] = sections_list[topic_id][len(topic):]\n",
    "\n",
    "    return sections\n",
    "\n",
    "def cleanup_section(text):\n",
    "    \"\"\"Takes an unformatted section of text,\n",
    "    and cleans it up, removing any bracketed numbers\n",
    "    and newlines\n",
    "    \"\"\"\n",
    "    #Todo: fix line below\n",
    "    chars = \"/()\\\"'$\"\n",
    "    text = re.sub(r\"\\[(.*?)\\]\", \"\", text)\n",
    "    text = text.replace(\"\\n\", \" \")\n",
    "    if text[0] == \" \":\n",
    "        text = text[1:]\n",
    "\n",
    "    return text\n",
    "\n",
    "sections = get_sections(\"wikipedia articles/apples.txt\")\n",
    "print(cleanup_section(sections[\"Etymology\"]))"
   ]
  },
  {
   "cell_type": "code",
   "execution_count": null,
   "id": "60cbe032-d3c8-43cb-b8d3-4ea674b9b2b0",
   "metadata": {},
   "outputs": [],
   "source": []
  }
 ],
 "metadata": {
  "kernelspec": {
   "display_name": "Python [conda env:base] *",
   "language": "python",
   "name": "conda-base-py"
  },
  "language_info": {
   "codemirror_mode": {
    "name": "ipython",
    "version": 3
   },
   "file_extension": ".py",
   "mimetype": "text/x-python",
   "name": "python",
   "nbconvert_exporter": "python",
   "pygments_lexer": "ipython3",
   "version": "3.12.2"
  }
 },
 "nbformat": 4,
 "nbformat_minor": 5
}
