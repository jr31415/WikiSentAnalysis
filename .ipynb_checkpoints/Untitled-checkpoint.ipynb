{
 "cells": [
  {
   "cell_type": "code",
   "execution_count": 21,
   "id": "148522ab-ac59-4b32-81ba-42d6ff2a914a",
   "metadata": {},
   "outputs": [],
   "source": [
    "import requests\n",
    "from bs4 import BeautifulSoup"
   ]
  },
  {
   "cell_type": "code",
   "execution_count": 109,
   "id": "92ac99c3-63b7-45a5-b7f7-1944e702f513",
   "metadata": {},
   "outputs": [],
   "source": [
    "def scrape_article(urls, names, save_location):\n",
    "    for url, name in zip(urls, names):\n",
    "        response = requests.get(url)\n",
    "        html = response.text\n",
    "\n",
    "        soup = BeautifulSoup(html, \"html.parser\")\n",
    "        for h2 in soup.find_all(\"h2\"):\n",
    "            h2.insert(0, \"_____\")\n",
    "\n",
    "        p_list = soup.find_all([\"p\", \"h2\"])\n",
    "        text = \"\"\n",
    "        for p in p_list:\n",
    "            text += p.get_text() + \"\\n\"\n",
    "\n",
    "        with open(save_location + \"/\" + name, 'w') as outfile:\n",
    "            outfile.write(text)\n",
    "            outfile.close()\n",
    "\n",
    "#urls = [\"https://en.wikipedia.org/wiki/Apple\", \"https://en.wikipedia.org/w/index.php?title=Apple&oldid=1301070818\", \"https://en.wikipedia.org/w/index.php?title=Apple&oldid=1299761914\", \"https://en.wikipedia.org/w/index.php?title=Apple&oldid=1297862675\", \"https://en.wikipedia.org/w/index.php?title=Apple&oldid=1296293324\", \"https://en.wikipedia.org/w/index.php?title=Apple&oldid=1294694106\"]\n",
    "#names = [\"apples08222025.txt\", \"apples07172025.txt\", \"apples07102025.txt\", \"apples06292025.txt\", \"apples06192025.txt\", \"apples06092025.txt\"]\n",
    "#save_location = \"wikipedia articles/apples\"\n",
    "\n",
    "#urls = [\"https://en.wikipedia.org/w/index.php?title=Charli_XCX&oldid=1227814212\", \"https://en.wikipedia.org/w/index.php?title=Charli_XCX&oldid=1229006765\",\\\n",
    "#       \"https://en.wikipedia.org/w/index.php?title=Charli_XCX&oldid=1230497686\", \"https://en.wikipedia.org/w/index.php?title=Charli_XCX&oldid=1226112300\",\\\n",
    "#       \"https://en.wikipedia.org/w/index.php?title=Charli_XCX&oldid=1224770336\", \"https://en.wikipedia.org/w/index.php?title=Charli_XCX&oldid=1224164715\"]\n",
    "#names = [\"charlixcx06072024.txt\", \"charlixcx06142024.txt\", \"charlixcx06232024.txt\", \"charlixcx05282024.txt\", \"charlixcx05202024.txt\", \"charlixcx05162024.txt\"]\n",
    "#save_location = \"wikipedia articles/charli xcx\"\n",
    "\n",
    "urls = [\"https://en.wikipedia.org/w/index.php?title=Dave_Grohl&oldid=1243911269\", \"https://en.wikipedia.org/w/index.php?title=Dave_Grohl&oldid=1242775235\",\\\n",
    "       \"https://en.wikipedia.org/w/index.php?title=Dave_Grohl&oldid=1241204176\", \"https://en.wikipedia.org/w/index.php?title=Dave_Grohl&oldid=1245088674\",\\\n",
    "       \"https://en.wikipedia.org/w/index.php?title=Dave_Grohl&oldid=1246256018\", \"https://en.wikipedia.org/w/index.php?title=Dave_Grohl&oldid=1247565713\"]\n",
    "names = [\"davegrohl09042024.txt\", \"davegrohl08282024.txt\", \"davegrohl08192024.txt\", \"davegrohl09102024.txt\", \"davegrohl09172024.txt\", \"davegrohl09242024.txt\"]\n",
    "save_location = \"wikipedia articles/dave grohl\"\n",
    "scrape_article(urls, names, save_location)"
   ]
  },
  {
   "cell_type": "code",
   "execution_count": null,
   "id": "0404b7e1-ae5d-4b43-a868-3be4c7b9fe46",
   "metadata": {},
   "outputs": [],
   "source": []
  }
 ],
 "metadata": {
  "kernelspec": {
   "display_name": "Python [conda env:base] *",
   "language": "python",
   "name": "conda-base-py"
  },
  "language_info": {
   "codemirror_mode": {
    "name": "ipython",
    "version": 3
   },
   "file_extension": ".py",
   "mimetype": "text/x-python",
   "name": "python",
   "nbconvert_exporter": "python",
   "pygments_lexer": "ipython3",
   "version": "3.12.2"
  }
 },
 "nbformat": 4,
 "nbformat_minor": 5
}
