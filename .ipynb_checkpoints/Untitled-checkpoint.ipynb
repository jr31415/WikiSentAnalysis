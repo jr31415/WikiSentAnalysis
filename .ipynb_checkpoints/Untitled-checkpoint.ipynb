{
 "cells": [
  {
   "cell_type": "code",
   "execution_count": 21,
   "id": "148522ab-ac59-4b32-81ba-42d6ff2a914a",
   "metadata": {},
   "outputs": [],
   "source": [
    "import requests\n",
    "from bs4 import BeautifulSoup"
   ]
  },
  {
   "cell_type": "code",
   "execution_count": 97,
   "id": "92ac99c3-63b7-45a5-b7f7-1944e702f513",
   "metadata": {},
   "outputs": [],
   "source": [
    "def scrape_article(urls, names, save_location):\n",
    "    for url, name in zip(urls, names):\n",
    "        response = requests.get(url)\n",
    "        html = response.text\n",
    "\n",
    "        soup = BeautifulSoup(html, \"html.parser\")\n",
    "        for h2 in soup.find_all(\"h2\"):\n",
    "            h2.insert(0, \"_____\")\n",
    "\n",
    "        p_list = soup.find_all([\"p\", \"h2\"])\n",
    "        text = \"\"\n",
    "        for p in p_list:\n",
    "            text += p.get_text() + \"\\n\"\n",
    "\n",
    "        with open(save_location + \"/\" + name, 'w') as outfile:\n",
    "            outfile.write(text)\n",
    "            outfile.close()\n",
    "\n",
    "\n",
    "scrape_article(urls, names, save_location)"
   ]
  },
  {
   "cell_type": "code",
   "execution_count": null,
   "id": "0404b7e1-ae5d-4b43-a868-3be4c7b9fe46",
   "metadata": {},
   "outputs": [],
   "source": []
  }
 ],
 "metadata": {
  "kernelspec": {
   "display_name": "Python [conda env:base] *",
   "language": "python",
   "name": "conda-base-py"
  },
  "language_info": {
   "codemirror_mode": {
    "name": "ipython",
    "version": 3
   },
   "file_extension": ".py",
   "mimetype": "text/x-python",
   "name": "python",
   "nbconvert_exporter": "python",
   "pygments_lexer": "ipython3",
   "version": "3.12.2"
  }
 },
 "nbformat": 4,
 "nbformat_minor": 5
}
